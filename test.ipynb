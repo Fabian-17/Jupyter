{
 "cells": [
  {
   "cell_type": "markdown",
   "metadata": {},
   "source": [
    "# Ejercicio de Algoritmia"
   ]
  },
  {
   "cell_type": "code",
   "execution_count": 49,
   "metadata": {},
   "outputs": [],
   "source": [
    "def capitalizar_palabra(palabra):\n",
    "    # Se valida que el parámetro ingresado sea una cadena de texto\n",
    "    if not isinstance(palabra, str):\n",
    "        return 'El parametro ingresado debe de ser un string'\n",
    "    \n",
    "    # Usa la función .capitalize() para convertir la primera letra en mayúscula y las demás en minúsculas\n",
    "    resultado = palabra.capitalize()\n",
    "\n",
    "    return resultado"
   ]
  },
  {
   "cell_type": "markdown",
   "metadata": {},
   "source": [
    "## app.py\n",
    "\n",
    "Este archivo contiene una función `capitalizar_palabra(palabra)` que recibe una cadena de texto y su función convertir la primera letra a mayúscula y que las demás se mantengan en minúsculas. Para ejecutarlo, simplemente llama a la función con la cadena de texto que desees como argumento. Ejemplo:"
   ]
  },
  {
   "cell_type": "code",
   "execution_count": 50,
   "metadata": {},
   "outputs": [
    {
     "name": "stdout",
     "output_type": "stream",
     "text": [
      "Python\n"
     ]
    }
   ],
   "source": [
    "print(capitalizar_palabra('python')) # Salida: Python"
   ]
  },
  {
   "cell_type": "markdown",
   "metadata": {},
   "source": [
    "# Ejercicio de pandas\n",
    "Trabajar en base al siguiente arreglo:"
   ]
  },
  {
   "cell_type": "code",
   "execution_count": 51,
   "metadata": {},
   "outputs": [],
   "source": [
    "productos = [\n",
    "{\"nombre\": \"Camiseta\", \"precio\": 20, \"cantidad_disponible\": 100},\n",
    "{\"nombre\": \"Pantalón\", \"precio\": 30, \"cantidad_disponible\": 80},\n",
    "{\"nombre\": \"Zapatos\", \"precio\": 50, \"cantidad_disponible\": 50},\n",
    "{\"nombre\": \"Reloj\", \"precio\": 100, \"cantidad_disponible\": 30},\n",
    "{\"nombre\": \"Gorra\", \"precio\": 15, \"cantidad_disponible\": 120},\n",
    "{\"nombre\": \"Bufanda\", \"precio\": 25, \"cantidad_disponible\": 60},\n",
    "{\"nombre\": \"Sudadera\", \"precio\": 40, \"cantidad_disponible\": 70},\n",
    "{\"nombre\": \"Bolsa\", \"precio\": 35, \"cantidad_disponible\": 90},\n",
    "{\"nombre\": \"Chaqueta\", \"precio\": 80, \"cantidad_disponible\": 40},\n",
    "{\"nombre\": \"Gafas de sol\", \"precio\": 45, \"cantidad_disponible\": 25},\n",
    "{\"nombre\": \"Calcetines\", \"precio\": 10, \"cantidad_disponible\": 150},\n",
    "{\"nombre\": \"Sombrero\", \"precio\": 20, \"cantidad_disponible\": 55},\n",
    "{\"nombre\": \"Pulsera\", \"precio\": 5, \"cantidad_disponible\": 200},\n",
    "{\"nombre\": \"Pendientes\", \"precio\": 15, \"cantidad_disponible\": 180},\n",
    "{\"nombre\": \"Cinturón\", \"precio\": 20, \"cantidad_disponible\": 100},\n",
    "{\"nombre\": \"Vestido\", \"precio\": 60, \"cantidad_disponible\": 35},\n",
    "{\"nombre\": \"Corbata\", \"precio\": 25, \"cantidad_disponible\": 75},\n",
    "{\"nombre\": \"Bolso\", \"precio\": 70, \"cantidad_disponible\": 45},\n",
    "{\"nombre\": \"Paraguas\", \"precio\": 30, \"cantidad_disponible\": 65},\n",
    "{\"nombre\": \"Collar\", \"precio\": 40, \"cantidad_disponible\": 85},\n",
    "]"
   ]
  },
  {
   "cell_type": "markdown",
   "metadata": {},
   "source": [
    "Importar las librerias necesarias:"
   ]
  },
  {
   "cell_type": "code",
   "execution_count": 52,
   "metadata": {},
   "outputs": [],
   "source": [
    "import pandas as pd\n",
    "import matplotlib.pyplot as plt"
   ]
  },
  {
   "cell_type": "markdown",
   "metadata": {},
   "source": [
    "Calcular el valor total del inventario (precio * cantidad_disponible) para cada producto y mostrarlo, y Calcular el valor total del inventario sumando el valor total de cada producto."
   ]
  },
  {
   "cell_type": "code",
   "execution_count": 53,
   "metadata": {},
   "outputs": [
    {
     "name": "stdout",
     "output_type": "stream",
     "text": [
      "El valor total del inventario es de: $44250\n",
      "      nombre  precio  cantidad_disponible  Inventario\n",
      "    Camiseta      20                  100        2000\n",
      "    Pantalón      30                   80        2400\n",
      "     Zapatos      50                   50        2500\n",
      "       Reloj     100                   30        3000\n",
      "       Gorra      15                  120        1800\n",
      "     Bufanda      25                   60        1500\n",
      "    Sudadera      40                   70        2800\n",
      "       Bolsa      35                   90        3150\n",
      "    Chaqueta      80                   40        3200\n",
      "Gafas de sol      45                   25        1125\n",
      "  Calcetines      10                  150        1500\n",
      "    Sombrero      20                   55        1100\n",
      "     Pulsera       5                  200        1000\n",
      "  Pendientes      15                  180        2700\n",
      "    Cinturón      20                  100        2000\n",
      "     Vestido      60                   35        2100\n",
      "     Corbata      25                   75        1875\n",
      "       Bolso      70                   45        3150\n",
      "    Paraguas      30                   65        1950\n",
      "      Collar      40                   85        3400\n"
     ]
    }
   ],
   "source": [
    "def valor_inventario(productos):\n",
    "\n",
    "    # Crea un DataFrame con los datos del arreglo de productos\n",
    "    tabla = pd.DataFrame(productos)\n",
    "\n",
    "    # Realiza la multiplicación para calcular el inventario\n",
    "    tabla['Inventario'] = tabla['precio'] * tabla['cantidad_disponible']\n",
    "\n",
    "    # Suma todos los valores de la tabla inventario\n",
    "    valor_total = tabla['Inventario'].sum()\n",
    "\n",
    "    print(f\"El valor total del inventario es de: ${valor_total}\")\n",
    "\n",
    "    # Crea la tabla del DataFrame\n",
    "    df = tabla[['nombre','precio', 'cantidad_disponible', 'Inventario']]\n",
    "    \n",
    "    return df.to_string(index=False) # Retorna el DataFrame borrandole el índice\n",
    "\n",
    "print(valor_inventario(productos))"
   ]
  },
  {
   "cell_type": "markdown",
   "metadata": {},
   "source": [
    "Simular algunas ventas y actualizar la cantidad disponible de productos vendidos."
   ]
  },
  {
   "cell_type": "code",
   "execution_count": 54,
   "metadata": {},
   "outputs": [],
   "source": [
    "ventas = [\n",
    "    {\"nombre\": \"Camiseta\", \"cantidad\": 24},\n",
    "    {\"nombre\": \"Pantalón\", \"cantidad\": 16},\n",
    "    {\"nombre\": \"Zapatos\", \"cantidad\": 33},\n",
    "    {\"nombre\": \"Reloj\", \"cantidad\": 11},\n",
    "    {\"nombre\": \"Gorra\", \"cantidad\": 87},\n",
    "    {\"nombre\": \"Bufanda\", \"cantidad\": 2},\n",
    "    {\"nombre\": \"Sudadera\", \"cantidad\": 28},\n",
    "    {\"nombre\": \"Bolsa\", \"cantidad\": 58},\n",
    "    {\"nombre\": \"Chaqueta\", \"cantidad\": 4},\n",
    "    {\"nombre\": \"Gafas de sol\", \"cantidad\": 24},\n",
    "    {\"nombre\": \"Calcetines\", \"cantidad\": 100},\n",
    "    {\"nombre\": \"Sombrero\", \"cantidad\": 46},\n",
    "    {\"nombre\": \"Pulsera\", \"cantidad\": 93},\n",
    "    {\"nombre\": \"Pendientes\", \"cantidad\": 144},\n",
    "    {\"nombre\": \"Cinturón\", \"cantidad\": 87},\n",
    "    {\"nombre\": \"Vestido\", \"cantidad\": 24},\n",
    "    {\"nombre\": \"Corbata\", \"cantidad\": 17},\n",
    "    {\"nombre\": \"Bolso\", \"cantidad\": 5},\n",
    "    {\"nombre\": \"Paraguas\", \"cantidad\": 15},\n",
    "    {\"nombre\": \"Collar\", \"cantidad\": 49},\n",
    "]"
   ]
  },
  {
   "cell_type": "markdown",
   "metadata": {},
   "source": [
    "Mostrar la cantidad restante disponible de cada producto después de las ventas simuladas."
   ]
  },
  {
   "cell_type": "code",
   "execution_count": 55,
   "metadata": {},
   "outputs": [],
   "source": [
    "def resultado_ventas(productos, ventas):\n",
    "    # Crea un DataFrame con los datos del arreglo de productos\n",
    "    tabla = pd.DataFrame(productos)\n",
    "    # Crea un DataFrame con los datos del arreglo de ventas\n",
    "    tabla_ventas = pd.DataFrame(ventas)\n",
    "\n",
    "    # Resta la tabla de cantidad a la tabla de cantidad_disponible\n",
    "    tabla['cantidad_restante'] = tabla['cantidad_disponible'] - tabla_ventas['cantidad']\n",
    "\n",
    "    # Crea la tabla resultante\n",
    "    dataframe = tabla[['nombre', 'cantidad_restante']]\n",
    "\n",
    "    return dataframe # Retorna el DataFrame "
   ]
  },
  {
   "cell_type": "markdown",
   "metadata": {},
   "source": [
    "Crea un DataFrame que incluya dos columnas una para los nombres de los productos y otra para la cantidad disponible de cada producto."
   ]
  },
  {
   "cell_type": "code",
   "execution_count": 56,
   "metadata": {},
   "outputs": [
    {
     "name": "stdout",
     "output_type": "stream",
     "text": [
      "      nombre  cantidad_restante\n",
      "    Camiseta                 76\n",
      "    Pantalón                 64\n",
      "     Zapatos                 17\n",
      "       Reloj                 19\n",
      "       Gorra                 33\n",
      "     Bufanda                 58\n",
      "    Sudadera                 42\n",
      "       Bolsa                 32\n",
      "    Chaqueta                 36\n",
      "Gafas de sol                  1\n",
      "  Calcetines                 50\n",
      "    Sombrero                  9\n",
      "     Pulsera                107\n",
      "  Pendientes                 36\n",
      "    Cinturón                 13\n",
      "     Vestido                 11\n",
      "     Corbata                 58\n",
      "       Bolso                 40\n",
      "    Paraguas                 50\n",
      "      Collar                 36\n"
     ]
    }
   ],
   "source": [
    "resultado= resultado_ventas(productos, ventas)  # Llama a la función y guarda el resultado en la variable resultado\n",
    "print(resultado.to_string(index=False)) # Imprime el resultado sin el índice"
   ]
  },
  {
   "cell_type": "markdown",
   "metadata": {},
   "source": [
    "# Ejercicio de Gráficos"
   ]
  },
  {
   "cell_type": "code",
   "execution_count": 57,
   "metadata": {},
   "outputs": [
    {
     "ename": "NameError",
     "evalue": "name 'tabla' is not defined",
     "output_type": "error",
     "traceback": [
      "\u001b[1;31m---------------------------------------------------------------------------\u001b[0m",
      "\u001b[1;31mNameError\u001b[0m                                 Traceback (most recent call last)",
      "Cell \u001b[1;32mIn[57], line 2\u001b[0m\n\u001b[0;32m      1\u001b[0m \u001b[38;5;66;03m# Metodo basico para graficar X vs Y\u001b[39;00m\n\u001b[1;32m----> 2\u001b[0m plt\u001b[38;5;241m.\u001b[39mplot(\u001b[43mtabla\u001b[49m[\u001b[38;5;124m'\u001b[39m\u001b[38;5;124mnombre\u001b[39m\u001b[38;5;124m'\u001b[39m], tabla[\u001b[38;5;124m'\u001b[39m\u001b[38;5;124mcantidad_restante\u001b[39m\u001b[38;5;124m'\u001b[39m])  \u001b[38;5;66;03m# se grafica una línea de color azul\u001b[39;00m\n\u001b[0;32m      3\u001b[0m plt\u001b[38;5;241m.\u001b[39mxticks(tabla[\u001b[38;5;124m'\u001b[39m\u001b[38;5;124mnombre\u001b[39m\u001b[38;5;124m'\u001b[39m], rotation\u001b[38;5;241m=\u001b[39m\u001b[38;5;124m'\u001b[39m\u001b[38;5;124mvertical\u001b[39m\u001b[38;5;124m'\u001b[39m)\n\u001b[0;32m      5\u001b[0m plt\u001b[38;5;241m.\u001b[39mtitle(\u001b[38;5;124m'\u001b[39m\u001b[38;5;124mCantidad disponible de productos\u001b[39m\u001b[38;5;124m'\u001b[39m)\n",
      "\u001b[1;31mNameError\u001b[0m: name 'tabla' is not defined"
     ]
    }
   ],
   "source": [
    "# Metodo basico para graficar X vs Y\n",
    "plt.plot(tabla['nombre'], tabla['cantidad_restante'])  # se grafica una línea de color azul\n",
    "plt.xticks(tabla['nombre'], rotation='vertical')\n",
    "\n",
    "plt.title('Cantidad disponible de productos')\n",
    "\n",
    "plt.grid(True)  # Para visualizar en forma de grilla\n",
    "\n",
    "plt.show()  # Mostrar la gráfica luego de que ya se definió todos los elementos"
   ]
  }
 ],
 "metadata": {
  "kernelspec": {
   "display_name": "env",
   "language": "python",
   "name": "python3"
  },
  "language_info": {
   "codemirror_mode": {
    "name": "ipython",
    "version": 3
   },
   "file_extension": ".py",
   "mimetype": "text/x-python",
   "name": "python",
   "nbconvert_exporter": "python",
   "pygments_lexer": "ipython3",
   "version": "3.12.3"
  }
 },
 "nbformat": 4,
 "nbformat_minor": 2
}
